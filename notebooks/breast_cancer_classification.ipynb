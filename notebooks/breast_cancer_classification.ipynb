{
 "cells": [
  {
   "cell_type": "markdown",
   "metadata": {},
   "source": [
    "# Breast Cancer Classification with Logistic Regression\n",
    "\n",
    "This notebook demonstrates how to build a logistic regression model to classify breast cancer tumors as either malignant or benign using the Scikit-learn breast cancer dataset."
   ]
  },
  {
   "cell_type": "markdown",
   "metadata": {},
   "source": [
    "## Importing Libraries\n",
    "\n",
    "We'll start by importing all the necessary libraries for our analysis:"
   ]
  },
  {
   "cell_type": "code",
   "execution_count": null,
   "metadata": {},
   "outputs": [],
   "source": [
    "import numpy as np              # For numerical operations\n",
    "import pandas as pd             # For data manipulation and analysis\n",
    "import matplotlib.pyplot as plt # For data visualization\n",
    "import seaborn as sns           # For enhanced data visualization\n",
    "from sklearn.datasets import load_breast_cancer           # To load the dataset\n",
    "from sklearn.model_selection import train_test_split      # To split data into training and testing sets\n",
    "from sklearn.preprocessing import StandardScaler          # For feature scaling\n",
    "from sklearn.linear_model import LogisticRegression       # Our classification model\n",
    "from sklearn.metrics import accuracy_score, classification_report, confusion_matrix, roc_curve, auc  # For model evaluation"
   ]
  },
  {
   "cell_type": "markdown",
   "metadata": {},
   "source": [
    "## Loading the Dataset\n",
    "\n",
    "The breast cancer dataset is a classic dataset in machine learning. It contains features computed from a digitized image of a fine needle aspirate (FNA) of a breast mass. These features describe characteristics of the cell nuclei present in the image.\n",
    "\n",
    "The dataset includes 569 instances with 30 features each. The target variable indicates whether the cancer is malignant (0) or benign (1)."
   ]
  },
  {
   "cell_type": "code",
   "execution_count": null,
   "metadata": {},
   "outputs": [],
   "source": [
    "# Load the breast cancer dataset\n",
    "breast_cancer = load_breast_cancer()\n",
    "X = breast_cancer.data    # Features\n",
    "y = breast_cancer.target  # Target variable (0: malignant, 1: benign)\n",
    "\n",
    "# Create a DataFrame for better data manipulation\n",
    "df = pd.DataFrame(X, columns=breast_cancer.feature_names)\n",
    "df['target'] = y\n",
    "\n",
    "# Display basic information about the dataset\n",
    "print(\"Dataset Shape:\", df.shape)\n",
    "print(\"\\nTarget Distribution:\")\n",
    "print(df['target'].value_counts())\n",
    "print(\"\\nFeature Names:\")\n",
    "print(breast_cancer.feature_names)\n",
    "print(\"\\nClass Names:\")\n",
    "print(breast_cancer.target_names)"
   ]
  },
  {
   "cell_type": "markdown",
   "metadata": {},
   "source": [
    "## Data Preprocessing\n",
    "\n",
    "Before training our model, we need to preprocess the data. This includes:\n",
    "1. Splitting the data into training and testing sets\n",
    "2. Scaling the features to ensure they're on the same scale"
   ]
  },
  {
   "cell_type": "code",
   "execution_count": null,
   "metadata": {},
   "outputs": [],
   "source": [
    "# Split the data into train and test sets (80% train, 20% test)\n",
    "X_train, X_test, y_train, y_test = train_test_split(X, y, test_size=0.2, random_state=42)\n",
    "\n",
    "print(\"Training set shape:\", X_train.shape)\n",
    "print(\"Testing set shape:\", X_test.shape)\n",
    "\n",
    "# Scale the features using StandardScaler\n",
    "# This transforms the data to have mean=0 and variance=1\n",
    "scaler = StandardScaler()\n",
    "X_train_scaled = scaler.fit_transform(X_train)  # Fit on training data and transform it\n",
    "X_test_scaled = scaler.transform(X_test)        # Transform test data using the same scaler"
   ]
  },
  {
   "cell_type": "markdown",
   "metadata": {},
   "source": [
    "## Training the Logistic Regression Model\n",
    "\n",
    "Now we'll train a logistic regression model on our preprocessed data. \n",
    "\n",
    "Logistic regression works by estimating the probability that an instance belongs to a particular class. If the estimated probability is greater than 0.5, the model predicts that the instance belongs to the positive class (in this case, benign); otherwise, it predicts that it belongs to the negative class (malignant)."
   ]
  },
  {
   "cell_type": "code",
   "execution_count": null,
   "metadata": {},
   "outputs": [],
   "source": [
    "# Initialize the logistic regression model\n",
    "model = LogisticRegression()\n",
    "\n",
    "# Train the model on the scaled training data\n",
    "model.fit(X_train_scaled, y_train)\n",
    "\n",
    "print(\"Model training complete!\")"
   ]
  },
  {
   "cell_type": "markdown",
   "metadata": {},
   "source": [
    "## Model Evaluation\n",
    "\n",
    "After training the model, we need to evaluate its performance on the test set. We'll use several metrics:\n",
    "- Accuracy: The proportion of correct predictions\n",
    "- Classification report: Precision, recall, and F1-score for each class\n",
    "- Confusion matrix: A table showing correct and incorrect predictions\n",
    "- ROC curve: A plot showing the trade-off between true positive rate and false positive rate"
   ]
  },
  {
   "cell_type": "code",
   "execution_count": null,
   "metadata": {},
   "outputs": [],
   "source": [
    "# Make predictions on the test set\n",
    "\n",
    "# Class predictions (0 or 1)\n",
    "y_pred = model.predict(X_test_scaled)                \n",
    "\n",
    "# Probability of being in class 1 (benign)\n",
    "y_pred_prob = model.predict_proba(X_test_scaled)[:, 1]  \n",
    "\n",
    "# Calculate accuracy\n",
    "accuracy = accuracy_score(y_test, y_pred)\n",
    "print(f\"Accuracy: {accuracy:.4f}\")\n",
    "\n",
    "# Classification report\n",
    "print(\"\\nClassification Report:\")\n",
    "print(classification_report(y_test, y_pred, target_names=breast_cancer.target_names))"
   ]
  },
  {
   "cell_type": "markdown",
   "metadata": {},
   "source": [
    "### Confusion Matrix\n",
    "\n",
    "A confusion matrix shows the counts of true positives, true negatives, false positives, and false negatives. It helps us understand where our model is making mistakes."
   ]
  },
  {
   "cell_type": "code",
   "execution_count": null,
   "metadata": {},
   "outputs": [],
   "source": [
    "# Confusion matrix\n",
    "conf_matrix = confusion_matrix(y_test, y_pred)\n",
    "plt.figure(figsize=(8, 6))\n",
    "sns.heatmap(conf_matrix, annot=True, fmt='d', cmap='Blues', \n",
    "            xticklabels=breast_cancer.target_names, \n",
    "            yticklabels=breast_cancer.target_names)\n",
    "plt.xlabel('Predicted', fontsize=12)\n",
    "plt.ylabel('True', fontsize=12)\n",
    "plt.title('Confusion Matrix', fontsize=14)\n",
    "plt.show()\n",
    "\n",
    "# Calculate and display additional metrics from the confusion matrix\n",
    "tn, fp, fn, tp = conf_matrix.ravel()\n",
    "sensitivity = tp / (tp + fn)  # True Positive Rate\n",
    "specificity = tn / (tn + fp)  # True Negative Rate\n",
    "\n",
    "print(f\"Sensitivity (True Positive Rate): {sensitivity:.4f}\")\n",
    "print(f\"Specificity (True Negative Rate): {specificity:.4f}\")"
   ]
  },
  {
   "cell_type": "markdown",
   "metadata": {},
   "source": [
    "### ROC Curve\n",
    "\n",
    "The Receiver Operating Characteristic (ROC) curve is a plot of the true positive rate against the false positive rate at various threshold settings. The area under the ROC curve (AUC) is a measure of how well the model can distinguish between the two classes."
   ]
  },
  {
   "cell_type": "code",
   "execution_count": null,
   "metadata": {},
   "outputs": [],
   "source": [
    "# ROC Curve\n",
    "fpr, tpr, _ = roc_curve(y_test, y_pred_prob)\n",
    "roc_auc = auc(fpr, tpr)\n",
    "\n",
    "plt.figure(figsize=(8, 6))\n",
    "plt.plot(fpr, tpr, color='darkorange', lw=2, label=f'ROC curve (area = {roc_auc:.2f})')\n",
    "plt.plot([0, 1], [0, 1], color='navy', lw=2, linestyle='--')\n",
    "plt.xlim([0.0, 1.0])\n",
    "plt.ylim([0.0, 1.05])\n",
    "plt.xlabel('False Positive Rate', fontsize=12)\n",
    "plt.ylabel('True Positive Rate', fontsize=12)\n",
    "plt.title('Receiver Operating Characteristic (ROC) Curve', fontsize=14)\n",
    "plt.legend(loc=\"lower right\", fontsize=10)\n",
    "plt.grid(alpha=0.3)\n",
    "plt.show()"
   ]
  },
  {
   "cell_type": "markdown",
   "metadata": {},
   "source": [
    "## Feature Importance\n",
    "\n",
    "One advantage of logistic regression is that it provides interpretable coefficients that can be used to understand feature importance. The magnitude of a coefficient indicates how strongly that feature influences the prediction."
   ]
  },
  {
   "cell_type": "code",
   "execution_count": null,
   "metadata": {},
   "outputs": [],
   "source": [
    "# Get feature importance based on the coefficients\n",
    "coef = model.coef_[0]\n",
    "feature_importance = pd.DataFrame({'Feature': breast_cancer.feature_names, 'Importance': np.abs(coef)})\n",
    "feature_importance = feature_importance.sort_values('Importance', ascending=False)\n",
    "\n",
    "# Display the top 15 most important features\n",
    "print(\"Top 15 Most Important Features:\")\n",
    "feature_importance.head(15)"
   ]
  },
  {
   "cell_type": "code",
   "execution_count": null,
   "metadata": {},
   "outputs": [],
   "source": [
    "# Plot feature importance\n",
    "plt.figure(figsize=(12, 8))\n",
    "ax = sns.barplot(x='Importance', y='Feature', data=feature_importance.head(15), palette='viridis')\n",
    "plt.title('Top 15 Feature Importance', fontsize=14)\n",
    "plt.xlabel('Absolute Coefficient Value', fontsize=12)\n",
    "plt.tight_layout()\n",
    "\n",
    "# Add value labels to the bars\n",
    "for i, v in enumerate(feature_importance.head(15)['Importance']):\n",
    "    ax.text(v + 0.05, i, f\"{v:.2f}\", va='center')\n",
    "    \n",
    "plt.show()"
   ]
  }
 ],
 "metadata": {
  "kernelspec": {
   "display_name": "base",
   "language": "python",
   "name": "python3"
  },
  "language_info": {
   "codemirror_mode": {
    "name": "ipython",
    "version": 3
   },
   "file_extension": ".py",
   "mimetype": "text/x-python",
   "name": "python",
   "nbconvert_exporter": "python",
   "pygments_lexer": "ipython3",
   "version": "3.9.18"
  }
 },
 "nbformat": 4,
 "nbformat_minor": 4
}
