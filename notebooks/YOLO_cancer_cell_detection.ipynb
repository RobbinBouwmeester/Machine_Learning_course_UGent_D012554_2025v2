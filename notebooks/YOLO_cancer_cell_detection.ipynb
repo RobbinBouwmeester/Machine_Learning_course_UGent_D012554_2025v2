{
  "cells": [
    {
      "cell_type": "markdown",
      "metadata": {
        "id": "view-in-github",
        "colab_type": "text"
      },
      "source": [
        "<a href=\"https://colab.research.google.com/github/sdgroeve/Machine_Learning_course_UGent_D012554_2025/blob/main/notebooks/YOLO_cancer_cell_detection.ipynb\" target=\"_parent\"><img src=\"https://colab.research.google.com/assets/colab-badge.svg\" alt=\"Open In Colab\"/></a>"
      ]
    },
    {
      "cell_type": "markdown",
      "metadata": {
        "id": "oe9vkEvFABbN"
      },
      "source": [
        "\n",
        "# Cancer Cell Detection: YOLO\n",
        "\n",
        "This code fine-tunes a YOLOv10 model for the detection of cancer cells in images."
      ]
    },
    {
      "cell_type": "code",
      "execution_count": null,
      "metadata": {
        "id": "CjpPg4mGKc1v"
      },
      "outputs": [],
      "source": [
        "import os\n",
        "HOME = os.getcwd()\n",
        "print(HOME)"
      ]
    },
    {
      "cell_type": "markdown",
      "metadata": {
        "id": "3C3EO_2zNChu"
      },
      "source": [
        "## Install YOLOv10"
      ]
    },
    {
      "cell_type": "code",
      "execution_count": null,
      "metadata": {
        "id": "tdSMcABDNKW-"
      },
      "outputs": [],
      "source": [
        "!pip install -q git+https://github.com/THU-MIG/yolov10.git"
      ]
    },
    {
      "cell_type": "markdown",
      "metadata": {
        "id": "Szn2UQBxqxnR"
      },
      "source": [
        "We will also install two additional packages: [`roboflow`](https://github.com/roboflow/roboflow-python) to download the dataset from [Roboflow Universe](https://universe.roboflow.com/), which we will use to train our model, and [`supervision`](https://github.com/roboflow/supervision), which we will use for visualizing the results."
      ]
    },
    {
      "cell_type": "code",
      "execution_count": null,
      "metadata": {
        "id": "Bf6A7E9glExI"
      },
      "outputs": [],
      "source": [
        "!pip install -q supervision roboflow"
      ]
    },
    {
      "cell_type": "markdown",
      "metadata": {
        "id": "JMEtcxdshoEC"
      },
      "source": [
        "## Download pre-trained weights"
      ]
    },
    {
      "cell_type": "markdown",
      "metadata": {
        "id": "CF1nAW3Dri83"
      },
      "source": [
        "YOLOv10 provides weight files pre-trained on the [COCO dataset](https://cocodataset.org/) in various sizes. Let's download them."
      ]
    },
    {
      "cell_type": "code",
      "execution_count": null,
      "metadata": {
        "id": "2l67kw8xiYPX"
      },
      "outputs": [],
      "source": [
        "!mkdir -p {HOME}/weights\n",
        "!wget -P {HOME}/weights -q https://github.com/THU-MIG/yolov10/releases/download/v1.1/yolov10n.pt\n",
        "!ls -lh {HOME}/weights"
      ]
    },
    {
      "cell_type": "markdown",
      "metadata": {
        "id": "t8Epf5rhnpV_"
      },
      "source": [
        "## Download dataset from Roboflow Universe\n",
        "\n",
        "Roboflow is a platform designed to simplify the process of creating, managing, and preprocessing computer vision datasets.\n",
        "\n",
        "To fine-tune the YOLO model for cancer cell detection we use [this dataset](https://universe.roboflow.com/national-yang-ming-chiao-tung-university-jvm0d/cell-type-ss5wm)."
      ]
    },
    {
      "cell_type": "code",
      "execution_count": null,
      "metadata": {
        "id": "BSd93ZJzZZKt"
      },
      "outputs": [],
      "source": [
        "!mkdir {HOME}/datasets\n",
        "%cd {HOME}/datasets\n",
        "\n",
        "!pip install -q roboflow\n",
        "\n",
        "from google.colab import userdata\n",
        "from roboflow import Roboflow\n",
        "\n",
        "import os\n",
        "from dotenv import load_dotenv, find_dotenv\n",
        "_= load_dotenv(find_dotenv())\n",
        "#ROBOFLOW_API_KEY = os.environ[\"ROBOFLOW_API_KEY\"]\n",
        "ROBOFLOW_API_KEY = \"wZKgeiCJuOw9rVjBBi3h\"\n",
        "\n",
        "rf = Roboflow(api_key=ROBOFLOW_API_KEY)\n",
        "project = rf.workspace(\"national-yang-ming-chiao-tung-university-jvm0d\").project(\"cancer-cell-box\")\n",
        "version = project.version(2)\n",
        "dataset = version.download(\"yolov8\")"
      ]
    },
    {
      "cell_type": "markdown",
      "metadata": {
        "id": "YUjFBKKqXa-u"
      },
      "source": [
        "## Fine-tuning YOLO\n",
        "\n",
        "The follwoing command fine-tunes YOLOv10 on a custom dataset using the Ultralytics YOLO CLI.\n",
        "\n",
        "Let's break it down:\n",
        "\n",
        "```bash\n",
        "yolo task=detect mode=train epochs=10 batch=32 plots=True \\\n",
        "model={HOME}/weights/yolov10n.pt \\\n",
        "data={dataset.location}/data.yaml\n",
        "```\n",
        "\n",
        "- **`yolo task=detect`** → Specifies the task as **object detection**.\n",
        "- **`mode=train`** → Runs YOLO in **training mode**.\n",
        "- **`epochs=10`** → Trains for **10 epochs** (iterations over the dataset).\n",
        "- **`batch=32`** → Uses a **batch size of 32**, meaning 32 images are processed per training step.\n",
        "- **`plots=True`** → Enables **visualization** of training metrics (loss, accuracy, etc.).\n",
        "- **`model={HOME}/weights/yolov10n.pt`** → Uses a **pretrained YOLOv10n model** stored in the `{HOME}/weights/` directory.  \n",
        "   - **YOLOv10n** is the **nano** version, optimized for speed and efficiency.\n",
        "- **`data={dataset.location}/data.yaml`** → Specifies the **dataset configuration file**, which includes:\n",
        "   - Paths to training and validation images.\n",
        "   - Class labels for the dataset."
      ]
    },
    {
      "cell_type": "code",
      "execution_count": null,
      "metadata": {
        "id": "D2YkphuiaE7_"
      },
      "outputs": [],
      "source": [
        "%cd {HOME}\n",
        "\n",
        "!yolo task=detect mode=train epochs=10 batch=32 plots=True \\\n",
        "model={HOME}/weights/yolov10n.pt \\\n",
        "data={dataset.location}/data.yaml"
      ]
    },
    {
      "cell_type": "markdown",
      "metadata": {
        "id": "PfwQCGedmmr0"
      },
      "source": [
        "YOLO creates several results files, including the fine-tuned model:"
      ]
    },
    {
      "cell_type": "code",
      "execution_count": null,
      "metadata": {
        "id": "1MScstfHhArr"
      },
      "outputs": [],
      "source": [
        "!ls {HOME}/runs/detect/train/"
      ]
    },
    {
      "cell_type": "code",
      "execution_count": null,
      "metadata": {
        "id": "_J35i8Ofhjxa"
      },
      "outputs": [],
      "source": [
        "from IPython.display import Image, display\n",
        "%cd {HOME}\n",
        "Image(filename=f'{HOME}/runs/detect/train/confusion_matrix.png', width=600)"
      ]
    },
    {
      "cell_type": "code",
      "execution_count": null,
      "metadata": {
        "id": "A-urTWUkhRmn"
      },
      "outputs": [],
      "source": [
        "%cd {HOME}\n",
        "Image(filename=f'{HOME}/runs/detect/train/results.png', width=600)"
      ]
    },
    {
      "cell_type": "markdown",
      "metadata": {
        "id": "Sh6h0MOEy2WX"
      },
      "source": [
        "## Inference with Custom Model"
      ]
    },
    {
      "cell_type": "markdown",
      "metadata": {
        "id": "TNjsAO8m08ti"
      },
      "source": [
        "Let's start by loading our newly trained model:"
      ]
    },
    {
      "cell_type": "code",
      "execution_count": null,
      "metadata": {
        "id": "AY1ajwSzyXCE"
      },
      "outputs": [],
      "source": [
        "from ultralytics import YOLOv10\n",
        "import supervision as sv\n",
        "\n",
        "model = YOLOv10(f'{HOME}/runs/detect/train/weights/best.pt')\n",
        "\n",
        "dataset = sv.DetectionDataset.from_yolo(\n",
        "    images_directory_path=f\"{dataset.location}/valid/images\",\n",
        "    annotations_directory_path=f\"{dataset.location}/valid/labels\",\n",
        "    data_yaml_path=f\"{dataset.location}/data.yaml\"\n",
        ")\n",
        "\n",
        "bounding_box_annotator = sv.BoundingBoxAnnotator()\n",
        "label_annotator = sv.LabelAnnotator()"
      ]
    },
    {
      "cell_type": "markdown",
      "metadata": {
        "id": "ibNL8dwU1Jqw"
      },
      "source": [
        "Let's randomly select an image from our validation set and visualize the results."
      ]
    },
    {
      "cell_type": "code",
      "execution_count": null,
      "metadata": {
        "id": "rDuvNsnH0OEV"
      },
      "outputs": [],
      "source": [
        "import random\n",
        "\n",
        "random_image = random.choice(list(dataset.images.keys()))\n",
        "random_image = dataset.images[random_image]\n",
        "\n",
        "results = model(source=random_image, conf=0.25)[0]\n",
        "detections = sv.Detections.from_ultralytics(results)\n",
        "\n",
        "annotated_image = bounding_box_annotator.annotate(\n",
        "    scene=random_image, detections=detections)\n",
        "annotated_image = label_annotator.annotate(\n",
        "    scene=annotated_image, detections=detections)\n",
        "\n",
        "sv.plot_image(annotated_image)"
      ]
    },
    {
      "cell_type": "code",
      "execution_count": null,
      "metadata": {
        "id": "J4FUtuGAovpu"
      },
      "outputs": [],
      "source": []
    }
  ],
  "metadata": {
    "accelerator": "GPU",
    "colab": {
      "gpuType": "T4",
      "provenance": [],
      "include_colab_link": true
    },
    "kernelspec": {
      "display_name": "Python 3",
      "name": "python3"
    },
    "language_info": {
      "name": "python"
    }
  },
  "nbformat": 4,
  "nbformat_minor": 0
}